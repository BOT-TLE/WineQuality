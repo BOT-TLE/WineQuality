{
 "cells": [
  {
   "cell_type": "code",
   "execution_count": 1,
   "metadata": {},
   "outputs": [
    {
     "name": "stdout",
     "output_type": "stream",
     "text": [
      "{'result': [5.91]}\n",
      "Prediction: 5.91\n"
     ]
    }
   ],
   "source": [
    "import requests\n",
    "import json\n",
    "\n",
    "# Define the input data as a list\n",
    "input_data = [7, 0.27, 0.36, 20.7, 0.045, 45, 170, 1.001, 3, 0.45, 8.8]\n",
    "\n",
    "\n",
    "# Convert the input data to a JSON string\n",
    "input_data_json = json.dumps({\"data\": [input_data]})\n",
    "\n",
    "# Replace with the URL of your deployed service\n",
    "scoring_uri = \"http://7a98e220-d48e-436d-92df-e65ed0fbb0b6.centralus.azurecontainer.io/score\"  \n",
    "\n",
    "# Define the content type\n",
    "headers = {\"Content-Type\": \"application/json\"}\n",
    "\n",
    "# Send an HTTP POST request to the endpoint\n",
    "response = requests.post(scoring_uri, data=input_data_json, headers=headers)\n",
    "\n",
    "# Check the response status code\n",
    "if response.status_code == 200:\n",
    "    # Parse the JSON response\n",
    "    result = json.loads(response.json())\n",
    "    print(result)\n",
    "    # Extract the prediction (result) from the response\n",
    "    prediction = result[\"result\"][0]\n",
    "    print(f\"Prediction: {prediction}\")\n",
    "else:\n",
    "    print(f\"Error: {response.text}\")"
   ]
  }
 ],
 "metadata": {
  "kernelspec": {
   "display_name": "Python 3",
   "language": "python",
   "name": "python3"
  },
  "language_info": {
   "codemirror_mode": {
    "name": "ipython",
    "version": 3
   },
   "file_extension": ".py",
   "mimetype": "text/x-python",
   "name": "python",
   "nbconvert_exporter": "python",
   "pygments_lexer": "ipython3",
   "version": "3.8.8rc1"
  }
 },
 "nbformat": 4,
 "nbformat_minor": 2
}
